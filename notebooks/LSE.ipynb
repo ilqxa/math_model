{
 "cells": [
  {
   "cell_type": "code",
   "execution_count": 1,
   "metadata": {},
   "outputs": [],
   "source": [
    "import numpy as np"
   ]
  },
  {
   "cell_type": "code",
   "execution_count": 2,
   "metadata": {},
   "outputs": [],
   "source": [
    "def real_f(x):\n",
    "    return np.log(x+1)*np.sin(x)"
   ]
  },
  {
   "cell_type": "code",
   "execution_count": 3,
   "metadata": {},
   "outputs": [],
   "source": [
    "x = [0., 0.63, 1.25, 1.88, 2.5]\n",
    "y = [real_f(x) for x in x]"
   ]
  },
  {
   "cell_type": "code",
   "execution_count": 8,
   "metadata": {},
   "outputs": [],
   "source": [
    "data = np.array([(x, y) for x, y in zip(x, y)])"
   ]
  },
  {
   "cell_type": "code",
   "execution_count": 50,
   "metadata": {},
   "outputs": [],
   "source": [
    "b0 = np.ones((len(x), 1))\n",
    "dF_db = np.append(b0, data[:, [0]], axis=1)"
   ]
  },
  {
   "cell_type": "code",
   "execution_count": 103,
   "metadata": {},
   "outputs": [],
   "source": [
    "def calculate(y, dF_db, j: int = 0):\n",
    "    db = dF_db[:, [j]]\n",
    "    dR = np.append(data[:, [1]], dF_db * -1, axis=1)\n",
    "    dR_db = dR * db\n",
    "    return np.dot(dR_db.T, np.ones(5))"
   ]
  },
  {
   "cell_type": "code",
   "execution_count": 104,
   "metadata": {},
   "outputs": [
    {
     "name": "stdout",
     "output_type": "stream",
     "text": [
      "[ 2.81477425 -5.         -6.26      ]\n",
      "[  4.91198827  -6.26       -11.7438    ]\n"
     ]
    }
   ],
   "source": [
    "for j in range(2):\n",
    "    print(calculate(data[:, [1]], dF_db, j))"
   ]
  }
 ],
 "metadata": {
  "kernelspec": {
   "display_name": "math_model",
   "language": "python",
   "name": "python3"
  },
  "language_info": {
   "codemirror_mode": {
    "name": "ipython",
    "version": 3
   },
   "file_extension": ".py",
   "mimetype": "text/x-python",
   "name": "python",
   "nbconvert_exporter": "python",
   "pygments_lexer": "ipython3",
   "version": "3.11.0"
  },
  "orig_nbformat": 4,
  "vscode": {
   "interpreter": {
    "hash": "c16b8334ab42fa81ddb262b82f648dc9fce665affe207e4549111373ce48213c"
   }
  }
 },
 "nbformat": 4,
 "nbformat_minor": 2
}
