{
 "cells": [
  {
   "cell_type": "code",
   "execution_count": 4,
   "metadata": {},
   "outputs": [],
   "source": [
    "import numpy as np\n",
    "import numpy.typing as npt"
   ]
  },
  {
   "cell_type": "code",
   "execution_count": 2,
   "metadata": {},
   "outputs": [],
   "source": [
    "def real_f(x):\n",
    "    return np.log(x+1)*np.sin(x)"
   ]
  },
  {
   "cell_type": "code",
   "execution_count": 3,
   "metadata": {},
   "outputs": [],
   "source": [
    "x = [0., 0.63, 1.25, 1.88, 2.5]\n",
    "y = [real_f(x) for x in x]"
   ]
  },
  {
   "attachments": {},
   "cell_type": "markdown",
   "metadata": {},
   "source": [
    "n+1 - количество точек  \n",
    "n - количество участков  \n",
    "  \n",
    "Уравнения:  \n",
    "2n = Для каждого участка (n участков) по 2 уравнения (начало и конец)  \n",
    "2(n-1) = Для кажой из точек между участками (n-1) по 2 уравнения (для 1 и 2 производной)  \n",
    "2 = Для граничных точек"
   ]
  },
  {
   "cell_type": "code",
   "execution_count": 17,
   "metadata": {},
   "outputs": [],
   "source": [
    "def poly(x: np.float64, x_i: np.float64, der: int = 0, deg: int = 3) -> npt.NDArray[np.float64]:\n",
    "    \"\"\"Нахождение der производной полинома deg степени\n",
    "\n",
    "    Args:\n",
    "        x (np.float64): _description_\n",
    "        x_i (np.float64): _description_\n",
    "        der (int, optional): _description_. Defaults to 0.\n",
    "        deg (int, optional): _description_. Defaults to 3.\n",
    "\n",
    "    Raises:\n",
    "        ValueError: _description_\n",
    "\n",
    "    Returns:\n",
    "        npt.NDArray[np.float64]: _description_\n",
    "    \"\"\"\n",
    "    if der < 0: raise ValueError\n",
    "    if deg < 0: raise ValueError\n",
    "    return np.array([(x-x_i)**(deg_i-der) if deg_i >= der else 0 for deg_i in range(deg, -1, -1)])"
   ]
  },
  {
   "cell_type": "code",
   "execution_count": 18,
   "metadata": {},
   "outputs": [
    {
     "name": "stdout",
     "output_type": "stream",
     "text": [
      "[27.  9.  3.  1.]\n",
      "[13.312053  5.6169    2.37      1.      ]\n",
      "[5.359375 3.0625   1.75     1.      ]\n",
      "[1.404928 1.2544   1.12     1.      ]\n",
      "[9. 3. 1. 0.]\n",
      "[5.6169 2.37   1.     0.    ]\n",
      "[3.0625 1.75   1.     0.    ]\n",
      "[1.2544 1.12   1.     0.    ]\n",
      "[3. 1. 0. 0.]\n",
      "[2.37 1.   0.   0.  ]\n",
      "[1.75 1.   0.   0.  ]\n",
      "[1.12 1.   0.   0.  ]\n"
     ]
    }
   ],
   "source": [
    "for der in (0, 1, 2):\n",
    "    for x_i in x[:-1]:\n",
    "        print(poly(3, x_i, der, 3))"
   ]
  }
 ],
 "metadata": {
  "kernelspec": {
   "display_name": "math_model",
   "language": "python",
   "name": "python3"
  },
  "language_info": {
   "codemirror_mode": {
    "name": "ipython",
    "version": 3
   },
   "file_extension": ".py",
   "mimetype": "text/x-python",
   "name": "python",
   "nbconvert_exporter": "python",
   "pygments_lexer": "ipython3",
   "version": "3.11.0"
  },
  "orig_nbformat": 4,
  "vscode": {
   "interpreter": {
    "hash": "c16b8334ab42fa81ddb262b82f648dc9fce665affe207e4549111373ce48213c"
   }
  }
 },
 "nbformat": 4,
 "nbformat_minor": 2
}
